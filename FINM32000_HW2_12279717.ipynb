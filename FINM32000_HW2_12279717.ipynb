{
 "cells": [
  {
   "cell_type": "markdown",
   "metadata": {},
   "source": [
    "# Question 1)"
   ]
  },
  {
   "cell_type": "code",
   "execution_count": 1,
   "metadata": {},
   "outputs": [],
   "source": [
    "import numpy as np"
   ]
  },
  {
   "cell_type": "code",
   "execution_count": 2,
   "metadata": {},
   "outputs": [],
   "source": [
    "class Dynamics:\n",
    "    pass"
   ]
  },
  {
   "cell_type": "code",
   "execution_count": 3,
   "metadata": {},
   "outputs": [],
   "source": [
    "hw2dynamics=Dynamics()\n",
    "hw2dynamics.S0 = 100\n",
    "hw2dynamics.r = 0.06\n",
    "hw2dynamics.q = 0.01\n",
    "hw2dynamics.maxvol = 0.6\n",
    "hw2dynamics.localvol = lambda S,t: np.minimum(0.2+5*np.log(S/100)**2+0.1*np.exp(-t), 0.6)\n",
    "\n",
    "# Note that hw2dynamics.localvol is a function \n",
    "# that may be invoked in the usual way, for example:\n",
    "# hw2dynamics.localvol( exchangerate , time )"
   ]
  },
  {
   "cell_type": "code",
   "execution_count": 4,
   "metadata": {},
   "outputs": [],
   "source": [
    "class Contract:\n",
    "    pass"
   ]
  },
  {
   "cell_type": "code",
   "execution_count": 5,
   "metadata": {},
   "outputs": [],
   "source": [
    "hw2contract=Contract()\n",
    "hw2contract.putexpiry = 0.75;\n",
    "hw2contract.putstrike = 95;\n",
    "hw2contract.callexpiry = 0.25;\n",
    "hw2contract.callstrike = 10;"
   ]
  },
  {
   "cell_type": "code",
   "execution_count": 6,
   "metadata": {},
   "outputs": [],
   "source": [
    "class Tree:\n",
    "    pass"
   ]
  },
  {
   "cell_type": "code",
   "execution_count": 7,
   "metadata": {},
   "outputs": [],
   "source": [
    "hw2tree=Tree()\n",
    "hw2tree.N=3000  #change if necessary to get $0.01 accuracy, in your judgment"
   ]
  },
  {
   "cell_type": "code",
   "execution_count": 8,
   "metadata": {},
   "outputs": [],
   "source": [
    "# You complete the coding of this function\n",
    "\n",
    "def compute_prob(r, sigma, deltat, deltax):\n",
    "    nu =       r - (sigma**2)/2\n",
    "    Pu =       0.5*(((sigma**2 * deltat) + nu**2*deltat**2)/(deltax**2)+(nu*deltat)/deltax)\n",
    "    Pd =       0.5*(((sigma**2 * deltat) + nu**2*deltat**2)/(deltax**2)-(nu*deltat)/deltax)\n",
    "    Pm =       1-Pu-Pd\n",
    "    \n",
    "    return Pu, Pm, Pd\n",
    "\n",
    "def pricer_compound_localvol_trinom(contract,dynamics,tree):\n",
    "    \n",
    "    S0, r, q, localvol, maxvol = dynamics.S0, dynamics.r, dynamics.q, dynamics.localvol, dynamics.maxvol\n",
    "    K_p, T_p, K_c, T_c = contract.putstrike, contract.putexpiry, contract.callstrike, contract.callexpiry\n",
    "    N = tree.N\n",
    "    \n",
    "    avg_vol = np.minimum(0.2+5*(np.log(S0/100))**2+0.1,0.6)\n",
    "    deltat =  T_p/N\n",
    "    \n",
    "    deltax = np.max([maxvol,np.sqrt(3)*avg_vol])  * np.sqrt(deltat)\n",
    "    \n",
    "    S=S0*np.exp(np.linspace(N, -N, num=2*N+1, endpoint=True)*deltax) \n",
    "    \n",
    "    optionprice_p = np.maximum(K_p-S,0)   #an array of time-T option prices\n",
    "    \n",
    "    # Computing Price American Put and Compound Call\n",
    "    call_flag = True \n",
    "    for k in range(N-1,-1,-1):\n",
    "        # Time point\n",
    "        t = k*deltat\n",
    "        # Stock prices for all the nodes at that timestamp \n",
    "        S=S0*np.exp(np.linspace(k, -k, num=2*k+1, endpoint=True)*deltax)\n",
    "        # Local sigma for all nodes\n",
    "        sigma = localvol(S,t)\n",
    "        # Local probabilities for all nodes \n",
    "        pu, pm, pd = compute_prob(r-q, sigma, deltat, deltax)\n",
    "        if k == (N-1):\n",
    "            print(pu)\n",
    "            print(pm)\n",
    "            print(pd)\n",
    "        # Check if we are now at T=0.25 or the first timestamp in the grid before that for pricing the call option \n",
    "        if t <= T_c and call_flag is True:\n",
    "            #Price of the option at the terminal node is equal the price of the put for each of those nodes minus the strike\n",
    "            optionprice_c = np.maximum(optionprice_p-K_c,0)\n",
    "            call_flag = False\n",
    "                \n",
    "        for j in range(2*k-1):\n",
    "            up = optionprice_p[j]\n",
    "            mid = optionprice_p[j+1]\n",
    "            down = optionprice_p[j+2]\n",
    "            discount = np.exp(-r*deltat)\n",
    "            # Price of American Put is the max between the discounted expected value next time or the intrinsic value of the option \n",
    "            optionprice_p[j] = np.max([discount*(pu[j]*up + pm[j]*mid + pd[j]*down), K_p - S[j]])\n",
    "            \n",
    "            if t < T_c:\n",
    "                up = optionprice_c[j]\n",
    "                mid = optionprice_c[j+1]\n",
    "                down = optionprice_c[j+2]\n",
    "                discount = np.exp(-r*deltat)\n",
    "                # European Option discounted expected value of the next time \n",
    "                optionprice_c[j] = discount*(pu[j]*up + pm[j]*mid + pd[j]*down)\n",
    "                                        \n",
    "    price_of_put = optionprice_p[0]\n",
    "    \n",
    "    price_of_call_on_put = optionprice_c[0] \n",
    "    \n",
    "    return (price_of_put, price_of_call_on_put)"
   ]
  },
  {
   "cell_type": "code",
   "execution_count": null,
   "metadata": {},
   "outputs": [
    {
     "name": "stdout",
     "output_type": "stream",
     "text": [
      "[0.49829297 0.49829297 0.49829297 ... 0.49829297 0.49829297 0.49829297]\n",
      "[-1.17361111e-05 -1.17361111e-05 -1.17361111e-05 ... -1.17361111e-05\n",
      " -1.17361111e-05 -1.17361111e-05]\n",
      "[0.50171877 0.50171877 0.50171877 ... 0.50171877 0.50171877 0.50171877]\n"
     ]
    }
   ],
   "source": [
    "(answer_part_a, answer_part_b) = pricer_compound_localvol_trinom(hw2contract,hw2dynamics,hw2tree)\n",
    "print(\"Time-0 price of an American-style put on the GDF with strike 95 and expires at time 0.75 is equal to: {:.4f}\".format(answer_part_a))\n",
    "print(\"Time-0 price of a European-style call on the GDF put with strike 10 and expires at time 0.25 is equal to: {:.4f}\".format(answer_part_b))"
   ]
  },
  {
   "cell_type": "markdown",
   "metadata": {},
   "source": [
    "# Question 2)"
   ]
  },
  {
   "cell_type": "markdown",
   "metadata": {},
   "source": [
    "## a)\n",
    "$$ C = S_0N(d_1) - Ke^{rT}N(d_2)$$\n",
    "$$ d_1 = \\frac{\\ln{\\frac{S_0}{K}}+\\left(r + \\frac{\\sigma^2}{2}\\right)T}{\\sigma\\sqrt{T}} \\quad d_2 = d_1 - \\sigma\\sqrt{T}$$\n",
    "\n",
    "Given that $\\ln{1} = 0$\n",
    "\n",
    "$$ d_1 = \\frac{\\left(r + \\frac{\\sigma^2}{2}\\right)\\sqrt{T}}{\\sigma} \\quad d_2 = \\frac{\\left(r - \\frac{\\sigma^2}{2}\\right)\\sqrt{T}}{\\sigma}$$\n",
    "\n",
    "For small $x$ we can use the Taylor Approximation up to the first order of $N(x)$ where $N(x)$ is the standard normally distributed function.\n",
    "\n",
    "$$ N(x) \\approx N(0) + N'(0)x \\quad N'(x) = \\frac{1}{\\sqrt{2\\pi}}e^{-x^2/2} \\rightarrow N'(0) = \\frac{1}{\\sqrt{2\\pi}}$$\n",
    "\n",
    "$$ N(x) \\approx \\frac{1}{2} + \\frac{1}{\\sqrt{2\\pi}}x $$\n",
    "\n",
    "Which leads us to \n",
    "\n",
    "$$ C = S_0 N\\left(\\frac{\\left(r + \\frac{\\sigma^2}{2}\\right)\\sqrt{T}}{\\sigma}\\right) -Ke^{-rT}N\\left(\\frac{\\left(r - \\frac{\\sigma^2}{2}\\right)\\sqrt{T}}{\\sigma}\\right) $$\n",
    "\n",
    "$$ \\Delta = \\frac{\\partial C}{\\partial S} = N\\left(\\frac{\\left(r + \\frac{\\sigma^2}{2}\\right)\\sqrt{T}}{\\sigma}\\right) \\approx \\frac{1}{2} + \\frac{1}{\\sqrt{2\\pi}}\\left(\\frac{\\left(r + \\frac{\\sigma^2}{2}\\right)\\sqrt{T}}{\\sigma}\\right) $$\n",
    "Plug $\\sigma = 0.2, T= 0.25, r = 0.01$\n",
    "\n",
    "$$ \\Delta = \\frac{1}{2} + \\frac{1}{\\sqrt{2\\pi}}\\left(\\frac{\\left(0.01 + \\frac{0.2^2}{2}\\right)\\sqrt{0.25}}{0.2}\\right) = 0.53 $$"
   ]
  },
  {
   "cell_type": "markdown",
   "metadata": {},
   "source": [
    "## b)\n",
    "\n",
    "Using 2nd-Order Taylor Approximation to $c(x)$\n",
    "\n",
    "$$ c(x) \\approx c(0) + c'(0)\\cdot x + \\frac{1}{2}c''(0)\\cdot x^2 $$\n",
    "$$ c(x) \\approx C(S_0) + \\frac{\\partial c}{\\partial x}(0)\\cdot x + \\frac{1}{2}\\frac{\\partial^2 c}{\\partial x^2}(0)\\cdot x^2 $$\n",
    "$$ c(x) \\approx C(S_0) + 3x + 3x^2 $$\n",
    "\n",
    "Given that we are pricing a contract at $S_0 = 3.6 \\rightarrow x = -0.1$\n",
    "\n",
    "$$ c(-0.1) \\approx 2 + 3(-0.1) + 3(-0.1)^2 $$\n",
    "$$ C(3.6) = c(-0.1) \\approx 1.73 $$"
   ]
  }
 ],
 "metadata": {
  "kernelspec": {
   "display_name": "Python 3",
   "language": "python",
   "name": "python3"
  },
  "language_info": {
   "codemirror_mode": {
    "name": "ipython",
    "version": 3
   },
   "file_extension": ".py",
   "mimetype": "text/x-python",
   "name": "python",
   "nbconvert_exporter": "python",
   "pygments_lexer": "ipython3",
   "version": "3.8.10"
  }
 },
 "nbformat": 4,
 "nbformat_minor": 4
}
